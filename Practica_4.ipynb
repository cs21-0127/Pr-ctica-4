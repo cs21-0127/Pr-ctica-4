{
  "nbformat": 4,
  "nbformat_minor": 0,
  "metadata": {
    "colab": {
      "provenance": []
    },
    "kernelspec": {
      "name": "python3",
      "display_name": "Python 3"
    },
    "language_info": {
      "name": "python"
    }
  },
  "cells": [
    {
      "cell_type": "markdown",
      "source": [
        "#Ejercicio 1: Multiplicar todos los elementos por 3\n",
        "#Dada una lista de números, multiplica todos los elementos por 3."
      ],
      "metadata": {
        "id": "PfoK-LaIJdQ_"
      }
    },
    {
      "cell_type": "code",
      "source": [
        "numeros = [1, 2, 3, 4, 5]\n",
        "resultado = [x * 3 for x in numeros]\n",
        "\n",
        "print(resultado)"
      ],
      "metadata": {
        "colab": {
          "base_uri": "https://localhost:8080/"
        },
        "id": "pW0fBUsxJgh2",
        "outputId": "59831ea4-f10b-4322-db69-85aa1607ff67"
      },
      "execution_count": null,
      "outputs": [
        {
          "output_type": "stream",
          "name": "stdout",
          "text": [
            "[3, 6, 9, 12, 15]\n"
          ]
        }
      ]
    },
    {
      "cell_type": "markdown",
      "source": [
        "#Ejercicio 2: Filtrar números mayores a 10\n",
        "#Dada una lista de números, filtra los números que son mayores a 10."
      ],
      "metadata": {
        "id": "Vo2Ect5GJjPv"
      }
    },
    {
      "cell_type": "code",
      "source": [
        "numeros = [5, 10, 15, 20, 25]\n",
        "resultado = []\n",
        "\n",
        "for numero in numeros:\n",
        "    if numero > 10:\n",
        "        resultado.append(numero)\n",
        "\n",
        "print(resultado)"
      ],
      "metadata": {
        "colab": {
          "base_uri": "https://localhost:8080/"
        },
        "id": "84bgYBXSJmJ6",
        "outputId": "5c2a7935-a0b7-462c-d78f-361c5ab715f6"
      },
      "execution_count": 1,
      "outputs": [
        {
          "output_type": "stream",
          "name": "stdout",
          "text": [
            "[15, 20, 25]\n"
          ]
        }
      ]
    },
    {
      "cell_type": "markdown",
      "source": [
        "#Ejercicio 3: Convertir una lista de palabras a mayúsculas\n",
        "#Dada una lista de palabras, conviértelas todas a mayúsculas."
      ],
      "metadata": {
        "id": "NTzXzVm4Jn7W"
      }
    },
    {
      "cell_type": "code",
      "source": [
        "palabras = [\"hola\", \"mundo\", \"python\"]\n",
        "resultado = []\n",
        "\n",
        "for palabra in palabras:\n",
        "    resultado.append(palabra.upper())\n",
        "\n",
        "print(resultado)"
      ],
      "metadata": {
        "colab": {
          "base_uri": "https://localhost:8080/"
        },
        "id": "Wjn9XGT3JqjN",
        "outputId": "cb8b8012-35a8-4d1d-b689-a03daa92dd09"
      },
      "execution_count": null,
      "outputs": [
        {
          "output_type": "stream",
          "name": "stdout",
          "text": [
            "['HOLA', 'MUNDO', 'PYTHON']\n"
          ]
        }
      ]
    },
    {
      "cell_type": "markdown",
      "source": [
        "#Ejercicio 4: Filtrar palabras que empiezan con 'p'\n",
        "#Dada una lista de palabras, filtra aquellas que comienzan con la letra 'p'."
      ],
      "metadata": {
        "id": "eWRCsywqJr6S"
      }
    },
    {
      "cell_type": "code",
      "source": [
        "palabras = [\"hola\", \"mundo\", \"python\", \"programacion\"]\n",
        "resultado = []\n",
        "\n",
        "for palabra in palabras:\n",
        "    if palabra.startswith('p'):\n",
        "        resultado.append(palabra)\n",
        "\n",
        "print(resultado)"
      ],
      "metadata": {
        "colab": {
          "base_uri": "https://localhost:8080/"
        },
        "id": "2mEjHD0FJthz",
        "outputId": "22cfcbf4-bc41-4f8c-cbe6-e297eef24716"
      },
      "execution_count": null,
      "outputs": [
        {
          "output_type": "stream",
          "name": "stdout",
          "text": [
            "['python', 'programacion']\n"
          ]
        }
      ]
    },
    {
      "cell_type": "markdown",
      "source": [
        "#Ejercicio 5: Calcular la longitud de cada palabra\n",
        "#Dada una lista de palabras, calcula la longitud de cada una."
      ],
      "metadata": {
        "id": "m5OlPwtOJu9U"
      }
    },
    {
      "cell_type": "code",
      "source": [
        "palabras = [\"hola\", \"mundo\", \"python\"]\n",
        "longitudes = [len(palabra) for palabra in palabras]\n",
        "\n",
        "print(longitudes)"
      ],
      "metadata": {
        "colab": {
          "base_uri": "https://localhost:8080/"
        },
        "id": "UkA_-PRCJyTD",
        "outputId": "d99b3f15-ac29-4478-abcd-e3ba7ac4a08c"
      },
      "execution_count": null,
      "outputs": [
        {
          "output_type": "stream",
          "name": "stdout",
          "text": [
            "[4, 5, 6]\n"
          ]
        }
      ]
    },
    {
      "cell_type": "markdown",
      "source": [
        "#Ejercicio 6: Filtrar palabras con longitud mayor a 4\n",
        "#Dada una lista de palabras, filtra aquellas que tienen una longitud mayor a 4."
      ],
      "metadata": {
        "id": "dhgeTak-J3P0"
      }
    },
    {
      "cell_type": "code",
      "source": [
        "palabras = [\"hola\", \"mundo\", \"python\", \"hi\"]\n",
        "resultado = []\n",
        "\n",
        "for palabra in palabras:\n",
        "    if len(palabra) > 4:\n",
        "        resultado.append(palabra)\n",
        "\n",
        "print(resultado)"
      ],
      "metadata": {
        "id": "aYNgx0EXJ47q"
      },
      "execution_count": null,
      "outputs": []
    },
    {
      "cell_type": "markdown",
      "source": [
        "#Ejercicio 7: Convertir una lista de temperaturas de Celsius a Fahrenheit\n",
        "#Dada una lista de temperaturas en Celsius, conviértelas a Fahrenheit."
      ],
      "metadata": {
        "id": "jyQ-smMaJ7pd"
      }
    },
    {
      "cell_type": "code",
      "source": [
        "celsius = [0, 20, 37, 100]\n",
        "\n",
        "fahrenheitResultado = []\n",
        "\n",
        "for temperatura in celsius:\n",
        "    fahrenheitResultado.append((temperatura * 9/5) + 32)\n",
        "\n",
        "print(fahrenheitResultado)"
      ],
      "metadata": {
        "colab": {
          "base_uri": "https://localhost:8080/"
        },
        "id": "AA30tLa5J8Xo",
        "outputId": "fb9385c3-4684-4b20-9a6c-d2a81f92fb4d"
      },
      "execution_count": null,
      "outputs": [
        {
          "output_type": "stream",
          "name": "stdout",
          "text": [
            "[32.0, 68.0, 98.6, 212.0]\n"
          ]
        }
      ]
    },
    {
      "cell_type": "markdown",
      "source": [
        "#Ejercicio 8: Filtrar temperaturas mayores a 50 grados Fahrenheit\n",
        "#Dada una lista de temperaturas en Fahrenheit, filtra aquellas que son mayores a 50 grados."
      ],
      "metadata": {
        "id": "WgxtsLqbJ_EP"
      }
    },
    {
      "cell_type": "code",
      "source": [
        "fahrenheit = [32.0, 68.0, 98.6, 212.0]\n",
        "resultado = []\n",
        "\n",
        "for grado in fahrenheit:\n",
        "    if grado > 50:\n",
        "        resultado.append(grado)\n",
        "\n",
        "print(resultado)"
      ],
      "metadata": {
        "colab": {
          "base_uri": "https://localhost:8080/"
        },
        "id": "qL6R5NtpJ_-J",
        "outputId": "cf2a38e7-159b-415b-9a0e-ac708b1e4123"
      },
      "execution_count": null,
      "outputs": [
        {
          "output_type": "stream",
          "name": "stdout",
          "text": [
            "[68.0, 98.6, 212.0]\n"
          ]
        }
      ]
    },
    {
      "cell_type": "markdown",
      "source": [
        "#Ejercicio 9: Sumar 5 a todos los elementos de una lista\n",
        "#Dada una lista de números, suma 5 a cada uno de ellos.\n"
      ],
      "metadata": {
        "id": "pVuHqoVuKBUO"
      }
    },
    {
      "cell_type": "code",
      "source": [
        "numeros = [1, 2, 3, 4, 5]\n",
        "resultado = [x + 5 for x in numeros]\n",
        "\n",
        "print(resultado)"
      ],
      "metadata": {
        "colab": {
          "base_uri": "https://localhost:8080/"
        },
        "id": "MUdIfMRxKD3F",
        "outputId": "e00c0034-af8c-4699-bf03-123d1febc829"
      },
      "execution_count": null,
      "outputs": [
        {
          "output_type": "stream",
          "name": "stdout",
          "text": [
            "[6, 7, 8, 9, 10]\n"
          ]
        }
      ]
    },
    {
      "cell_type": "markdown",
      "source": [
        "#Ejercicio 10: Filtrar palabras que contienen la letra 'a'\n",
        "#Dada una lista de palabras, filtra aquellas que contienen la letra 'a'."
      ],
      "metadata": {
        "id": "a7-le-aWKF-2"
      }
    },
    {
      "cell_type": "code",
      "source": [
        "palabras = [\"hola\", \"mundo\", \"python\", \"vida\"]\n",
        "resultado = []\n",
        "\n",
        "for letra in palabras:\n",
        "    if 'a' in letra:\n",
        "        resultado.append(letra)\n",
        "\n",
        "print(resultado)"
      ],
      "metadata": {
        "colab": {
          "base_uri": "https://localhost:8080/"
        },
        "id": "qlrTNunbKImn",
        "outputId": "720d274d-3c0a-4d0c-a961-8b3ca835b058"
      },
      "execution_count": null,
      "outputs": [
        {
          "output_type": "stream",
          "name": "stdout",
          "text": [
            "['hola', 'vida']\n"
          ]
        }
      ]
    }
  ]
}